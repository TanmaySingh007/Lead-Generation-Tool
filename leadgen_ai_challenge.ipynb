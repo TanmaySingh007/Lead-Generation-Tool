{
 "cells": [
  {
   "cell_type": "code",
   "execution_count": 1,
   "id": "2253598c-7d15-4e7d-a6a8-7418a256306c",
   "metadata": {},
   "outputs": [
    {
     "ename": "SyntaxError",
     "evalue": "invalid syntax (534736510.py, line 4)",
     "output_type": "error",
     "traceback": [
      "\u001b[1;36m  Cell \u001b[1;32mIn[1], line 4\u001b[1;36m\u001b[0m\n\u001b[1;33m    This notebook demonstrates a smart lead generation tool for SaaS companies. It loads, cleans, enriches, scores, and filters leads, providing an interactive and exportable workflow.\u001b[0m\n\u001b[1;37m         ^\u001b[0m\n\u001b[1;31mSyntaxError\u001b[0m\u001b[1;31m:\u001b[0m invalid syntax\n"
     ]
    }
   ],
   "source": [
    "# Caprae Capital AI-Readiness Lead Generation Challenge\n",
    "\n",
    "## 1. Introduction & Business Rationale\n",
    "This notebook demonstrates a smart lead generation tool for SaaS companies. It loads, cleans, enriches, scores, and filters leads, providing an interactive and exportable workflow."
   ]
  },
  {
   "cell_type": "code",
   "execution_count": null,
   "id": "18574d29-bdd5-4a55-9b0a-d5255cd6f8bf",
   "metadata": {},
   "outputs": [],
   "source": [
    "## 2. Data Loading\n",
    "Load the SaaS company dataset."
   ]
  },
  {
   "cell_type": "code",
   "execution_count": 2,
   "id": "cdf2db6f-087e-4a0d-806d-b0844bfd7718",
   "metadata": {},
   "outputs": [
    {
     "data": {
      "text/html": [
       "<div>\n",
       "<style scoped>\n",
       "    .dataframe tbody tr th:only-of-type {\n",
       "        vertical-align: middle;\n",
       "    }\n",
       "\n",
       "    .dataframe tbody tr th {\n",
       "        vertical-align: top;\n",
       "    }\n",
       "\n",
       "    .dataframe thead th {\n",
       "        text-align: right;\n",
       "    }\n",
       "</style>\n",
       "<table border=\"1\" class=\"dataframe\">\n",
       "  <thead>\n",
       "    <tr style=\"text-align: right;\">\n",
       "      <th></th>\n",
       "      <th>name</th>\n",
       "      <th>website</th>\n",
       "      <th>linkedin</th>\n",
       "      <th>industry</th>\n",
       "      <th>size</th>\n",
       "      <th>country</th>\n",
       "    </tr>\n",
       "  </thead>\n",
       "  <tbody>\n",
       "    <tr>\n",
       "      <th>0</th>\n",
       "      <td>LinkedIn</td>\n",
       "      <td>https://linkedin.com</td>\n",
       "      <td>https://linkedin.com/company/linkedin</td>\n",
       "      <td>Social Media</td>\n",
       "      <td>10000+</td>\n",
       "      <td>US</td>\n",
       "    </tr>\n",
       "    <tr>\n",
       "      <th>1</th>\n",
       "      <td>GitHub</td>\n",
       "      <td>https://github.com</td>\n",
       "      <td>https://linkedin.com/company/github</td>\n",
       "      <td>Software Development</td>\n",
       "      <td>1000-5000</td>\n",
       "      <td>US</td>\n",
       "    </tr>\n",
       "    <tr>\n",
       "      <th>2</th>\n",
       "      <td>Canva</td>\n",
       "      <td>https://canva.com</td>\n",
       "      <td>https://linkedin.com/company/canva</td>\n",
       "      <td>Design</td>\n",
       "      <td>500-1000</td>\n",
       "      <td>AU</td>\n",
       "    </tr>\n",
       "    <tr>\n",
       "      <th>3</th>\n",
       "      <td>Stripe</td>\n",
       "      <td>https://stripe.com</td>\n",
       "      <td>https://linkedin.com/company/stripe</td>\n",
       "      <td>Financial Services</td>\n",
       "      <td>1000-5000</td>\n",
       "      <td>US</td>\n",
       "    </tr>\n",
       "    <tr>\n",
       "      <th>4</th>\n",
       "      <td>Shopify</td>\n",
       "      <td>https://shopify.com</td>\n",
       "      <td>https://linkedin.com/company/shopify</td>\n",
       "      <td>E-commerce</td>\n",
       "      <td>5000-10000</td>\n",
       "      <td>CA</td>\n",
       "    </tr>\n",
       "  </tbody>\n",
       "</table>\n",
       "</div>"
      ],
      "text/plain": [
       "       name               website                               linkedin  \\\n",
       "0  LinkedIn  https://linkedin.com  https://linkedin.com/company/linkedin   \n",
       "1    GitHub    https://github.com    https://linkedin.com/company/github   \n",
       "2     Canva     https://canva.com     https://linkedin.com/company/canva   \n",
       "3    Stripe    https://stripe.com    https://linkedin.com/company/stripe   \n",
       "4   Shopify   https://shopify.com   https://linkedin.com/company/shopify   \n",
       "\n",
       "               industry        size country  \n",
       "0          Social Media      10000+      US  \n",
       "1  Software Development   1000-5000      US  \n",
       "2                Design    500-1000      AU  \n",
       "3    Financial Services   1000-5000      US  \n",
       "4            E-commerce  5000-10000      CA  "
      ]
     },
     "execution_count": 2,
     "metadata": {},
     "output_type": "execute_result"
    }
   ],
   "source": [
    "import pandas as pd\n",
    "\n",
    "df = pd.read_csv('sample_saas_companies.csv')\n",
    "df.head()"
   ]
  },
  {
   "cell_type": "code",
   "execution_count": null,
   "id": "36896e06-1faf-4dde-a4a8-becf278364f4",
   "metadata": {},
   "outputs": [],
   "source": [
    "## 3. Data Cleaning & Deduplication\n",
    "Remove duplicates and normalize data."
   ]
  },
  {
   "cell_type": "code",
   "execution_count": 3,
   "id": "ec0347c2-43f5-4956-83a9-2d8704c9ef0e",
   "metadata": {},
   "outputs": [
    {
     "data": {
      "text/html": [
       "<div>\n",
       "<style scoped>\n",
       "    .dataframe tbody tr th:only-of-type {\n",
       "        vertical-align: middle;\n",
       "    }\n",
       "\n",
       "    .dataframe tbody tr th {\n",
       "        vertical-align: top;\n",
       "    }\n",
       "\n",
       "    .dataframe thead th {\n",
       "        text-align: right;\n",
       "    }\n",
       "</style>\n",
       "<table border=\"1\" class=\"dataframe\">\n",
       "  <thead>\n",
       "    <tr style=\"text-align: right;\">\n",
       "      <th></th>\n",
       "      <th>name</th>\n",
       "      <th>website</th>\n",
       "      <th>linkedin</th>\n",
       "      <th>industry</th>\n",
       "      <th>size</th>\n",
       "      <th>country</th>\n",
       "    </tr>\n",
       "  </thead>\n",
       "  <tbody>\n",
       "    <tr>\n",
       "      <th>0</th>\n",
       "      <td>LinkedIn</td>\n",
       "      <td>https://linkedin.com</td>\n",
       "      <td>https://linkedin.com/company/linkedin</td>\n",
       "      <td>Social Media</td>\n",
       "      <td>10000+</td>\n",
       "      <td>US</td>\n",
       "    </tr>\n",
       "    <tr>\n",
       "      <th>1</th>\n",
       "      <td>GitHub</td>\n",
       "      <td>https://github.com</td>\n",
       "      <td>https://linkedin.com/company/github</td>\n",
       "      <td>Software Development</td>\n",
       "      <td>1000-5000</td>\n",
       "      <td>US</td>\n",
       "    </tr>\n",
       "    <tr>\n",
       "      <th>2</th>\n",
       "      <td>Canva</td>\n",
       "      <td>https://canva.com</td>\n",
       "      <td>https://linkedin.com/company/canva</td>\n",
       "      <td>Design</td>\n",
       "      <td>500-1000</td>\n",
       "      <td>AU</td>\n",
       "    </tr>\n",
       "    <tr>\n",
       "      <th>3</th>\n",
       "      <td>Stripe</td>\n",
       "      <td>https://stripe.com</td>\n",
       "      <td>https://linkedin.com/company/stripe</td>\n",
       "      <td>Financial Services</td>\n",
       "      <td>1000-5000</td>\n",
       "      <td>US</td>\n",
       "    </tr>\n",
       "    <tr>\n",
       "      <th>4</th>\n",
       "      <td>Shopify</td>\n",
       "      <td>https://shopify.com</td>\n",
       "      <td>https://linkedin.com/company/shopify</td>\n",
       "      <td>E-commerce</td>\n",
       "      <td>5000-10000</td>\n",
       "      <td>CA</td>\n",
       "    </tr>\n",
       "  </tbody>\n",
       "</table>\n",
       "</div>"
      ],
      "text/plain": [
       "       name               website                               linkedin  \\\n",
       "0  LinkedIn  https://linkedin.com  https://linkedin.com/company/linkedin   \n",
       "1    GitHub    https://github.com    https://linkedin.com/company/github   \n",
       "2     Canva     https://canva.com     https://linkedin.com/company/canva   \n",
       "3    Stripe    https://stripe.com    https://linkedin.com/company/stripe   \n",
       "4   Shopify   https://shopify.com   https://linkedin.com/company/shopify   \n",
       "\n",
       "               industry        size country  \n",
       "0          Social Media      10000+      US  \n",
       "1  Software Development   1000-5000      US  \n",
       "2                Design    500-1000      AU  \n",
       "3    Financial Services   1000-5000      US  \n",
       "4            E-commerce  5000-10000      CA  "
      ]
     },
     "execution_count": 3,
     "metadata": {},
     "output_type": "execute_result"
    }
   ],
   "source": [
    "df = df.drop_duplicates(subset=['name', 'website'])\n",
    "df = df.dropna(subset=['name', 'website'])\n",
    "df.reset_index(drop=True, inplace=True)\n",
    "df.head()"
   ]
  },
  {
   "cell_type": "code",
   "execution_count": null,
   "id": "fbbe3cb3-1d6c-433e-8248-0e82d72299a7",
   "metadata": {},
   "outputs": [],
   "source": [
    "## 4. Lead Enrichment\n",
    "Add LinkedIn and website info (already present in this sample)."
   ]
  },
  {
   "cell_type": "code",
   "execution_count": null,
   "id": "deb77577-18f1-4d46-8243-b522dadfbd6d",
   "metadata": {},
   "outputs": [],
   "source": [
    "## 5. Lead Scoring\n",
    "Score leads based on size, country, and industry."
   ]
  },
  {
   "cell_type": "code",
   "execution_count": 4,
   "id": "99d77fe6-f6ee-422a-908a-e923b9c12cf3",
   "metadata": {},
   "outputs": [
    {
     "data": {
      "text/html": [
       "<div>\n",
       "<style scoped>\n",
       "    .dataframe tbody tr th:only-of-type {\n",
       "        vertical-align: middle;\n",
       "    }\n",
       "\n",
       "    .dataframe tbody tr th {\n",
       "        vertical-align: top;\n",
       "    }\n",
       "\n",
       "    .dataframe thead th {\n",
       "        text-align: right;\n",
       "    }\n",
       "</style>\n",
       "<table border=\"1\" class=\"dataframe\">\n",
       "  <thead>\n",
       "    <tr style=\"text-align: right;\">\n",
       "      <th></th>\n",
       "      <th>name</th>\n",
       "      <th>website</th>\n",
       "      <th>linkedin</th>\n",
       "      <th>industry</th>\n",
       "      <th>size</th>\n",
       "      <th>country</th>\n",
       "      <th>score</th>\n",
       "    </tr>\n",
       "  </thead>\n",
       "  <tbody>\n",
       "    <tr>\n",
       "      <th>1</th>\n",
       "      <td>GitHub</td>\n",
       "      <td>https://github.com</td>\n",
       "      <td>https://linkedin.com/company/github</td>\n",
       "      <td>Software Development</td>\n",
       "      <td>1000-5000</td>\n",
       "      <td>US</td>\n",
       "      <td>5</td>\n",
       "    </tr>\n",
       "    <tr>\n",
       "      <th>8</th>\n",
       "      <td>Slack</td>\n",
       "      <td>https://slack.com</td>\n",
       "      <td>https://linkedin.com/company/slack</td>\n",
       "      <td>Collaboration</td>\n",
       "      <td>1000-5000</td>\n",
       "      <td>US</td>\n",
       "      <td>5</td>\n",
       "    </tr>\n",
       "    <tr>\n",
       "      <th>0</th>\n",
       "      <td>LinkedIn</td>\n",
       "      <td>https://linkedin.com</td>\n",
       "      <td>https://linkedin.com/company/linkedin</td>\n",
       "      <td>Social Media</td>\n",
       "      <td>10000+</td>\n",
       "      <td>US</td>\n",
       "      <td>4</td>\n",
       "    </tr>\n",
       "    <tr>\n",
       "      <th>3</th>\n",
       "      <td>Stripe</td>\n",
       "      <td>https://stripe.com</td>\n",
       "      <td>https://linkedin.com/company/stripe</td>\n",
       "      <td>Financial Services</td>\n",
       "      <td>1000-5000</td>\n",
       "      <td>US</td>\n",
       "      <td>4</td>\n",
       "    </tr>\n",
       "    <tr>\n",
       "      <th>6</th>\n",
       "      <td>Zendesk</td>\n",
       "      <td>https://zendesk.com</td>\n",
       "      <td>https://linkedin.com/company/zendesk</td>\n",
       "      <td>Customer Service</td>\n",
       "      <td>1000-5000</td>\n",
       "      <td>US</td>\n",
       "      <td>4</td>\n",
       "    </tr>\n",
       "  </tbody>\n",
       "</table>\n",
       "</div>"
      ],
      "text/plain": [
       "       name               website                               linkedin  \\\n",
       "1    GitHub    https://github.com    https://linkedin.com/company/github   \n",
       "8     Slack     https://slack.com     https://linkedin.com/company/slack   \n",
       "0  LinkedIn  https://linkedin.com  https://linkedin.com/company/linkedin   \n",
       "3    Stripe    https://stripe.com    https://linkedin.com/company/stripe   \n",
       "6   Zendesk   https://zendesk.com   https://linkedin.com/company/zendesk   \n",
       "\n",
       "               industry       size country  score  \n",
       "1  Software Development  1000-5000      US      5  \n",
       "8         Collaboration  1000-5000      US      5  \n",
       "0          Social Media     10000+      US      4  \n",
       "3    Financial Services  1000-5000      US      4  \n",
       "6      Customer Service  1000-5000      US      4  "
      ]
     },
     "execution_count": 4,
     "metadata": {},
     "output_type": "execute_result"
    }
   ],
   "source": [
    "# Example scoring: prioritize US-based, 1000+ employees, and 'Software' or 'Productivity' industries\n",
    "def score_lead(row):\n",
    "    score = 0\n",
    "    if row['country'] == 'US':\n",
    "        score += 2\n",
    "    if '1000' in str(row['size']):\n",
    "        score += 2\n",
    "    if row['industry'] in ['Software Development', 'Productivity', 'Collaboration']:\n",
    "        score += 1\n",
    "    return score\n",
    "\n",
    "df['score'] = df.apply(score_lead, axis=1)\n",
    "df = df.sort_values(by='score', ascending=False)\n",
    "df.head()"
   ]
  },
  {
   "cell_type": "code",
   "execution_count": null,
   "id": "0e5417f6-6df1-4ce7-9986-cea6709f385e",
   "metadata": {},
   "outputs": [],
   "source": [
    "## 6. Interactive Filtering & Export\n",
    "Use widgets to filter leads and export results."
   ]
  },
  {
   "cell_type": "code",
   "execution_count": 5,
   "id": "b08a4a92-8ed5-4fb0-adea-99296ccd1c39",
   "metadata": {},
   "outputs": [
    {
     "data": {
      "application/vnd.jupyter.widget-view+json": {
       "model_id": "767a58537f5042e283f26b4e8b09354b",
       "version_major": 2,
       "version_minor": 0
      },
      "text/plain": [
       "IntSlider(value=5, max=10)"
      ]
     },
     "metadata": {},
     "output_type": "display_data"
    }
   ],
   "source": [
    "import ipywidgets as widgets\n",
    "from IPython.display import display\n",
    "\n",
    "slider = widgets.IntSlider(value=5, min=0, max=10)\n",
    "display(slider)"
   ]
  },
  {
   "cell_type": "code",
   "execution_count": 6,
   "id": "d21fa411-0b07-45de-a0a5-dcb8ab8dc310",
   "metadata": {},
   "outputs": [
    {
     "name": "stdout",
     "output_type": "stream",
     "text": [
      "Index(['name', 'website', 'linkedin', 'industry', 'size', 'country', 'score'], dtype='object')\n",
      "       name               website                               linkedin  \\\n",
      "1    GitHub    https://github.com    https://linkedin.com/company/github   \n",
      "8     Slack     https://slack.com     https://linkedin.com/company/slack   \n",
      "0  LinkedIn  https://linkedin.com  https://linkedin.com/company/linkedin   \n",
      "3    Stripe    https://stripe.com    https://linkedin.com/company/stripe   \n",
      "6   Zendesk   https://zendesk.com   https://linkedin.com/company/zendesk   \n",
      "\n",
      "               industry       size country  score  \n",
      "1  Software Development  1000-5000      US      5  \n",
      "8         Collaboration  1000-5000      US      5  \n",
      "0          Social Media     10000+      US      4  \n",
      "3    Financial Services  1000-5000      US      4  \n",
      "6      Customer Service  1000-5000      US      4  \n",
      "5\n"
     ]
    }
   ],
   "source": [
    "print(df.columns)\n",
    "print(df.head())\n",
    "print(df['score'].max())"
   ]
  },
  {
   "cell_type": "code",
   "execution_count": 7,
   "id": "2baa946d-ffc3-46ad-80ef-4d89275e0ae4",
   "metadata": {},
   "outputs": [
    {
     "data": {
      "application/vnd.jupyter.widget-view+json": {
       "model_id": "be82cd049c894be48e77596355ed71ee",
       "version_major": 2,
       "version_minor": 0
      },
      "text/plain": [
       "VBox(children=(Dropdown(description='Industry:', options=('All', 'Collaboration', 'Customer Service', 'Design'…"
      ]
     },
     "metadata": {},
     "output_type": "display_data"
    },
    {
     "data": {
      "application/vnd.jupyter.widget-view+json": {
       "model_id": "3fdfcbdb31f44a78bdafe4a1dc1aeaaf",
       "version_major": 2,
       "version_minor": 0
      },
      "text/plain": [
       "Output()"
      ]
     },
     "metadata": {},
     "output_type": "display_data"
    }
   ],
   "source": [
    "import ipywidgets as widgets\n",
    "from IPython.display import display\n",
    "\n",
    "industry_options = ['All'] + sorted(df['industry'].unique())\n",
    "country_options = ['All'] + sorted(df['country'].unique())\n",
    "size_options = ['All'] + sorted(df['size'].unique())\n",
    "\n",
    "industry_widget = widgets.Dropdown(options=industry_options, description='Industry:')\n",
    "country_widget = widgets.Dropdown(options=country_options, description='Country:')\n",
    "size_widget = widgets.Dropdown(options=size_options, description='Size:')\n",
    "score_widget = widgets.IntSlider(value=0, min=0, max=df['score'].max(), step=1, description='Min Score:')\n",
    "\n",
    "filtered_df = df.copy()  # To allow export after filtering\n",
    "\n",
    "def filter_leads(industry, country, size, min_score):\n",
    "    global filtered_df\n",
    "    filtered = df.copy()\n",
    "    if industry != 'All':\n",
    "        filtered = filtered[filtered['industry'] == industry]\n",
    "    if country != 'All':\n",
    "        filtered = filtered[filtered['country'] == country]\n",
    "    if size != 'All':\n",
    "        filtered = filtered[filtered['size'] == size]\n",
    "    filtered = filtered[filtered['score'] >= min_score]\n",
    "    filtered_df = filtered  # Save for export\n",
    "    display(filtered)\n",
    "    return filtered\n",
    "\n",
    "ui = widgets.VBox([industry_widget, country_widget, size_widget, score_widget])\n",
    "out = widgets.interactive_output(\n",
    "    filter_leads, \n",
    "    {'industry': industry_widget, 'country': country_widget, 'size': size_widget, 'min_score': score_widget}\n",
    ")\n",
    "display(ui, out)"
   ]
  },
  {
   "cell_type": "code",
   "execution_count": null,
   "id": "ea355dd8-f1c3-4bc6-b62a-72c6b2f48296",
   "metadata": {},
   "outputs": [],
   "source": [
    "# Export filtered leads to CSV\n",
    "# After filtering, run this cell to export the current filtered leads:\n",
    "filtered_df.to_csv('filtered_leads.csv', index=False)\n",
    "print(\"Exported filtered leads to filtered_leads.csv\")"
   ]
  },
  {
   "cell_type": "code",
   "execution_count": null,
   "id": "58824480-e2ce-4801-bdb9-0d71c7f9c3c8",
   "metadata": {},
   "outputs": [],
   "source": [
    "## 7. Conclusion & 1-Page Rationale\n",
    "See `report.md` for a summary of design choices and business rationale."
   ]
  }
 ],
 "metadata": {
  "kernelspec": {
   "display_name": "Python 3 (ipykernel)",
   "language": "python",
   "name": "python3"
  },
  "language_info": {
   "codemirror_mode": {
    "name": "ipython",
    "version": 3
   },
   "file_extension": ".py",
   "mimetype": "text/x-python",
   "name": "python",
   "nbconvert_exporter": "python",
   "pygments_lexer": "ipython3",
   "version": "3.13.1"
  }
 },
 "nbformat": 4,
 "nbformat_minor": 5
}
